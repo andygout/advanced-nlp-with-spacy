{
 "cells": [
  {
   "cell_type": "code",
   "execution_count": 12,
   "id": "212b634c",
   "metadata": {
    "scrolled": true
   },
   "outputs": [
    {
     "name": "stdout",
     "output_type": "stream",
     "text": [
      "It          PRON      pronoun       nsubj     \n",
      "’s          VERB      verb          ccomp     \n",
      "official    NOUN      noun          acomp     \n",
      ":           PUNCT     punctuation   punct     \n",
      "Apple       PROPN     proper noun   nsubj     \n",
      "is          AUX       auxiliary     ROOT      \n",
      "the         DET       determiner    det       \n",
      "first       ADJ       adjective     amod      \n",
      "U.S.        PROPN     proper noun   nmod      \n",
      "public      ADJ       adjective     amod      \n",
      "company     NOUN      noun          attr      \n",
      "to          PART      particle      aux       \n",
      "reach       VERB      verb          relcl     \n",
      "a           DET       determiner    det       \n",
      "$           SYM       symbol        quantmod  \n",
      "1           NUM       numeral       compound  \n",
      "trillion    NUM       numeral       nummod    \n",
      "market      NOUN      noun          compound  \n",
      "value       NOUN      noun          dobj      \n"
     ]
    }
   ],
   "source": [
    "import spacy\n",
    "\n",
    "nlp = spacy.load(\"en_core_web_sm\")\n",
    "\n",
    "text = \"It’s official: Apple is the first U.S. public company to reach a $1 trillion market value\"\n",
    "\n",
    "# Process the text\n",
    "doc = nlp(text)\n",
    "\n",
    "for token in doc:\n",
    "    # Get the token text, part-of-speech tag, part-of-speech explanation, and dependency label\n",
    "    token_text = token.text\n",
    "    token_pos = token.pos_\n",
    "    token_dep = token.dep_\n",
    "    tag_explanation = spacy.explain(token_pos)\n",
    "    # This is for formatting only\n",
    "    print(f\"{token_text:<12}{token_pos:<10}{tag_explanation:<14}{token_dep:<10}\")"
   ]
  },
  {
   "cell_type": "code",
   "execution_count": 14,
   "id": "7e41332a",
   "metadata": {},
   "outputs": [
    {
     "name": "stdout",
     "output_type": "stream",
     "text": [
      "Apple ORG\n",
      "first ORDINAL\n",
      "U.S. GPE\n",
      "$1 trillion MONEY\n"
     ]
    }
   ],
   "source": [
    "import spacy\n",
    "\n",
    "nlp = spacy.load(\"en_core_web_sm\")\n",
    "\n",
    "text = \"It’s official: Apple is the first U.S. public company to reach a $1 trillion market value\"\n",
    "\n",
    "# Process the text\n",
    "doc = nlp(text)\n",
    "\n",
    "# Iterate over the predicted entities\n",
    "for ent in doc.ents:\n",
    "    # Print the entity text and its label\n",
    "    print(ent.text, ent.label_)"
   ]
  }
 ],
 "metadata": {
  "kernelspec": {
   "display_name": "Python 3 (ipykernel)",
   "language": "python",
   "name": "python3"
  },
  "language_info": {
   "codemirror_mode": {
    "name": "ipython",
    "version": 3
   },
   "file_extension": ".py",
   "mimetype": "text/x-python",
   "name": "python",
   "nbconvert_exporter": "python",
   "pygments_lexer": "ipython3",
   "version": "3.9.7"
  }
 },
 "nbformat": 4,
 "nbformat_minor": 5
}

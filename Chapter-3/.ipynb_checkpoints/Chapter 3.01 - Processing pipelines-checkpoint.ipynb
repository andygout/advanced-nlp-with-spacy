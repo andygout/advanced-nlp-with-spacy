{
 "cells": [
  {
   "cell_type": "code",
   "execution_count": 5,
   "id": "22ab5b6c",
   "metadata": {},
   "outputs": [],
   "source": [
    "import spacy\n",
    "\n",
    "nlp = spacy.load(\"en_core_web_sm\")"
   ]
  },
  {
   "cell_type": "code",
   "execution_count": 6,
   "id": "b57e2947",
   "metadata": {
    "scrolled": true
   },
   "outputs": [
    {
     "name": "stdout",
     "output_type": "stream",
     "text": [
      "['tok2vec', 'tagger', 'parser', 'attribute_ruler', 'lemmatizer', 'ner']\n"
     ]
    }
   ],
   "source": [
    "# To see the names of the pipeline components present in the current nlp object,\n",
    "# you can use the `nlp.pipe_names` attribute.\n",
    "print(nlp.pipe_names)"
   ]
  },
  {
   "cell_type": "code",
   "execution_count": 7,
   "id": "35eb8282",
   "metadata": {},
   "outputs": [
    {
     "name": "stdout",
     "output_type": "stream",
     "text": [
      "[('tok2vec', <spacy.pipeline.tok2vec.Tok2Vec object at 0x7fe42090eee0>), ('tagger', <spacy.pipeline.tagger.Tagger object at 0x7fe4209146a0>), ('parser', <spacy.pipeline.dep_parser.DependencyParser object at 0x7fe449c5c350>), ('attribute_ruler', <spacy.pipeline.attributeruler.AttributeRuler object at 0x7fe449b2e880>), ('lemmatizer', <spacy.lang.en.lemmatizer.EnglishLemmatizer object at 0x7fe448fa4640>), ('ner', <spacy.pipeline.ner.EntityRecognizer object at 0x7fe449c5c510>)]\n"
     ]
    }
   ],
   "source": [
    "# For a list of component name and component function tuples, you can use the `nlp.pipeline` attribute.\n",
    "print(nlp.pipeline)"
   ]
  }
 ],
 "metadata": {
  "kernelspec": {
   "display_name": "Python 3 (ipykernel)",
   "language": "python",
   "name": "python3"
  },
  "language_info": {
   "codemirror_mode": {
    "name": "ipython",
    "version": 3
   },
   "file_extension": ".py",
   "mimetype": "text/x-python",
   "name": "python",
   "nbconvert_exporter": "python",
   "pygments_lexer": "ipython3",
   "version": "3.9.7"
  }
 },
 "nbformat": 4,
 "nbformat_minor": 5
}

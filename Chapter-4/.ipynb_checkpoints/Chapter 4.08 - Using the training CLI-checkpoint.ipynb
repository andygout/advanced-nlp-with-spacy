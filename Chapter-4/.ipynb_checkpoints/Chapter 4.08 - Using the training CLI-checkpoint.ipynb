{
 "cells": [
  {
   "cell_type": "code",
   "execution_count": 3,
   "id": "5f53134e",
   "metadata": {},
   "outputs": [
    {
     "name": "stdout",
     "output_type": "stream",
     "text": [
      "\u001b[38;5;2m✔ Created output directory: ../output\u001b[0m\n",
      "\u001b[38;5;4mℹ Saving to output directory: ../output\u001b[0m\n",
      "\u001b[38;5;4mℹ Using CPU\u001b[0m\n",
      "\u001b[1m\n",
      "=========================== Initializing pipeline ===========================\u001b[0m\n",
      "[2022-12-07 10:54:41,643] [INFO] Set up nlp object from config\n",
      "[2022-12-07 10:54:41,649] [INFO] Pipeline: ['tok2vec', 'ner']\n",
      "[2022-12-07 10:54:41,652] [INFO] Created vocabulary\n",
      "[2022-12-07 10:54:41,654] [INFO] Finished initializing nlp object\n",
      "[2022-12-07 10:54:42,299] [INFO] Initialized pipeline components: ['tok2vec', 'ner']\n",
      "\u001b[38;5;2m✔ Initialized pipeline\u001b[0m\n",
      "\u001b[1m\n",
      "============================= Training pipeline =============================\u001b[0m\n",
      "\u001b[38;5;4mℹ Pipeline: ['tok2vec', 'ner']\u001b[0m\n",
      "\u001b[38;5;4mℹ Initial learn rate: 0.001\u001b[0m\n",
      "E    #       LOSS TOK2VEC  LOSS NER  ENTS_F  ENTS_P  ENTS_R  SCORE \n",
      "---  ------  ------------  --------  ------  ------  ------  ------\n",
      "  0       0          0.00     20.33    1.69    1.04    4.44    0.02\n",
      "  1     200         28.51    990.65   75.56   75.56   75.56    0.76\n",
      "  2     400         81.94    233.83   81.52   79.79   83.33    0.82\n",
      "  4     600         70.54    108.24   73.30   69.31   77.78    0.73\n",
      "  6     800         95.41     90.02   86.02   83.33   88.89    0.86\n",
      "  9    1000         62.88     50.65   80.22   79.35   81.11    0.80\n",
      " 12    1200         34.40     22.79   82.02   82.95   81.11    0.82\n",
      " 16    1400         72.63     32.10   83.98   83.52   84.44    0.84\n",
      " 22    1600        104.69     28.26   84.62   83.70   85.56    0.85\n",
      " 28    1800         35.21      9.35   85.08   84.62   85.56    0.85\n",
      " 36    2000         66.35     16.45   83.33   78.43   88.89    0.83\n",
      " 46    2200        158.65     36.65   81.03   75.24   87.78    0.81\n",
      " 58    2400        251.90     47.38   82.87   82.42   83.33    0.83\n",
      "\u001b[38;5;2m✔ Saved pipeline to output directory\u001b[0m\n",
      "../output/model-last\n"
     ]
    }
   ],
   "source": [
    "!python -m spacy train ../exercises/en/config_gadget.cfg --output ../output --paths.train ../exercises/en/train_gadget.spacy --paths.dev ../exercises/en/dev_gadget.spacy"
   ]
  }
 ],
 "metadata": {
  "kernelspec": {
   "display_name": "Python 3 (ipykernel)",
   "language": "python",
   "name": "python3"
  },
  "language_info": {
   "codemirror_mode": {
    "name": "ipython",
    "version": 3
   },
   "file_extension": ".py",
   "mimetype": "text/x-python",
   "name": "python",
   "nbconvert_exporter": "python",
   "pygments_lexer": "ipython3",
   "version": "3.9.7"
  }
 },
 "nbformat": 4,
 "nbformat_minor": 5
}
